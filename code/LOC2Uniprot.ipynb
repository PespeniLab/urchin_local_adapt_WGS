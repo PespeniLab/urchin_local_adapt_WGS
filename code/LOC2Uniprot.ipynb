{
  "nbformat": 4,
  "nbformat_minor": 0,
  "metadata": {
    "colab": {
      "provenance": [],
      "collapsed_sections": []
    },
    "kernelspec": {
      "name": "python3",
      "display_name": "Python 3"
    },
    "language_info": {
      "name": "python"
    }
  },
  "cells": [
    {
      "cell_type": "code",
      "execution_count": null,
      "metadata": {
        "id": "os1qX_2r7N7l"
      },
      "outputs": [],
      "source": [
        "import pandas as pd\n",
        "import csv\n",
        "import json"
      ]
    },
    {
      "cell_type": "markdown",
      "source": [
        "**Question**: do uniprotIDs mapped to the same LOC share similar GO terms?"
      ],
      "metadata": {
        "id": "OnXSXyzG7ej3"
      }
    },
    {
      "cell_type": "code",
      "source": [
        "locs=pd.read_csv(\"uniprot-pcangsd_all.tab\", sep=\"\\t\", names=(\"LOC\",\"uni\",\"1\",\"2\",\"3\",\"4\",\"5\",\"6\"), header=None)\n",
        "locs = locs.iloc[1: , :]"
      ],
      "metadata": {
        "id": "_9TZcG0D7cWG"
      },
      "execution_count": null,
      "outputs": []
    },
    {
      "cell_type": "code",
      "source": [
        "mapping=pd.read_csv(\"GO_mapping_topGO\", sep=\"\\t\", names=(\"uni\",\"go\"))"
      ],
      "metadata": {
        "id": "a6eBcTxN7krP"
      },
      "execution_count": null,
      "outputs": []
    },
    {
      "cell_type": "code",
      "source": [
        "mydic={}\n",
        "for index, row in locs.iterrows():\n",
        "  loc = row[0]\n",
        "  same_locs_list=locs[locs[\"LOC\"]==loc]\n",
        "  if len(same_locs_list) > 1:\n",
        "    nlist=[]\n",
        "    for i,l in same_locs_list.iterrows():\n",
        "      goterms=list(mapping[mapping[\"uni\"]==l[1]].go)\n",
        "      if len(goterms) != 0: \n",
        "        g=goterms[0].split(\",\")\n",
        "        nlist.append(g)\n",
        "    nlist=[item for sublist in nlist for item in sublist]\n",
        "    nnlist=[x for x in nlist if nlist.count(x)==1]\n",
        "    if len(nlist) != 0:\n",
        "      if len(nnlist)/len(nlist) > 0:\n",
        "        mydic[loc]=(len(nnlist)/len(nlist)) # Number of unique GO terms over all GO terms, over all different matches of LOC to UniprotID"
      ],
      "metadata": {
        "id": "DM6yU5Nt7oOH"
      },
      "execution_count": null,
      "outputs": []
    },
    {
      "cell_type": "markdown",
      "source": [
        "I was right, out of all of the LOCs only a few had unique GOs between the multiple uniprotID hits"
      ],
      "metadata": {
        "id": "SmNBWyf07uZh"
      }
    },
    {
      "cell_type": "markdown",
      "source": [
        "So I am just gonna choose the uniprotID with the most GO terms"
      ],
      "metadata": {
        "id": "idtYtEuY76bw"
      }
    },
    {
      "cell_type": "code",
      "source": [
        "newdic={}\n",
        "for loc in locs.LOC.unique():\n",
        "  same_locs_list=locs[locs[\"LOC\"]==loc]\n",
        "  tempdic={}\n",
        "  for i,l in same_locs_list.iterrows():\n",
        "    goterms=list(mapping[mapping[\"uni\"]==l[1]].go) # for each of the rows with the same loc, get GO term corresponding to uniprotID\n",
        "    if len(goterms) != 0: \n",
        "      g=goterms[0].split(\",\")\n",
        "      tempdic[l[1]] = g\n",
        "\n",
        "  if len(tempdic) == 0: # no uniprotIDs mapped to any goterms, select first uniprotID\n",
        "    newdic[loc]=list(same_locs_list.uni)[0]\n",
        "\n",
        "  else:\n",
        "    m=0\n",
        "    k=list(tempdic.keys())[0]\n",
        "    for key in tempdic:\n",
        "      num_go=len(tempdic[key])\n",
        "      if num_go > m:\n",
        "        m=num_go\n",
        "        k=key\n",
        "    newdic[loc]=k\n",
        "\n"
      ],
      "metadata": {
        "id": "6tn5dZ0C7uzH"
      },
      "execution_count": null,
      "outputs": []
    },
    {
      "cell_type": "code",
      "source": [
        "textfile = open(\"uniprotIDs_pcangsd_all.txt\", \"w\")\n",
        "\n",
        "for element in newdic.values():\n",
        "    textfile.write(element + \"\\n\")\n",
        "textfile.close()"
      ],
      "metadata": {
        "id": "ASY0A-_f8kgx"
      },
      "execution_count": null,
      "outputs": []
    },
    {
      "cell_type": "code",
      "source": [
        "#with open('LOC2Uniprot_most_GO.json', 'w') as fp:\n",
        "    #json.dump(newdic, fp)"
      ],
      "metadata": {
        "id": "dp7DnuYF8frO"
      },
      "execution_count": null,
      "outputs": []
    }
  ]
}