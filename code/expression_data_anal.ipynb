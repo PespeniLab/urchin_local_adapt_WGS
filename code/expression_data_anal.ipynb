{
  "cells": [
    {
      "cell_type": "code",
      "execution_count": null,
      "metadata": {
        "id": "931PT0Yoy2I9"
      },
      "outputs": [],
      "source": [
        "import pandas as pd\n",
        "import matplotlib.pyplot as plt\n",
        "import random\n",
        "import numpy as np\n",
        "from scipy import stats\n",
        "import seaborn as sns"
      ]
    },
    {
      "cell_type": "code",
      "execution_count": null,
      "metadata": {
        "id": "opZyYRH1y4R1"
      },
      "outputs": [],
      "source": [
        "genebod=pd.read_csv(\"non_prom_locs.txt\", header=None, names=[\"loc\"])\n",
        "prom=pd.read_csv(\"prom_locs.txt\", header=None, names=[\"loc\"])\n",
        "all_loc=pd.read_csv(\"all_locs.txt\", header=None, names=[\"loc\"])"
      ]
    },
    {
      "cell_type": "markdown",
      "source": [
        "# Selecting threshold"
      ],
      "metadata": {
        "id": "c2T0ohMNwDk0"
      }
    },
    {
      "cell_type": "code",
      "execution_count": null,
      "metadata": {
        "id": "8hOtk44u345M"
      },
      "outputs": [],
      "source": [
        "exp=pd.read_csv(\"TPMs.tsv\", sep=\"\\t\") # downloaded from Echinobase FTP\n",
        "exp[\"ID\"]=exp[\"transcript_id\"].str.split(\".\",expand=True)[0]"
      ]
    },
    {
      "cell_type": "code",
      "source": [
        "texp=exp.groupby(\"gene_id\").max() # Necessary since we choose the transcript with the highest expression for the outlier genes too\n",
        "texp[\"sum\"]=texp['0'] + texp['10'] + texp['18'] + texp['24'] + texp['30'] + texp['40'] + texp['48'] + texp['56'] + texp['64'] + texp['72']\n",
        "\n",
        "confs=np.array([conf for conf in texp[\"sum\"]])\n",
        "confs = np.sort(confs)"
      ],
      "metadata": {
        "id": "x2h-F0OJwB1I"
      },
      "execution_count": null,
      "outputs": []
    },
    {
      "cell_type": "code",
      "source": [
        "thresh=700\n",
        "plt.figure(figsize=(10,10))\n",
        "xs = np.linspace(0,1,len(confs))\n",
        "plt.plot(xs,confs,\n",
        "         lw=1,\n",
        "         color=\"black\")\n",
        "plt.xlabel(\"%data\")\n",
        "plt.ylabel(\"confidence\")\n",
        "plt.axhline(thresh,\n",
        "            label=f\"Threshold {thresh} : {len(confs[confs > thresh])/len(confs)*100:.3f}% remaining\",\n",
        "            lw=1,\n",
        "            color=\"green\")\n",
        "plt.fill_between(xs, confs, thresh, \n",
        "                 where=confs > thresh,\n",
        "                 alpha=.2,\n",
        "                 color=\"green\")\n",
        "plt.legend()"
      ],
      "metadata": {
        "colab": {
          "base_uri": "https://localhost:8080/",
          "height": 623
        },
        "id": "n13sRnyOv9SV",
        "outputId": "e06730a0-93c2-4405-cfa4-e22fd9babdfe"
      },
      "execution_count": null,
      "outputs": [
        {
          "output_type": "execute_result",
          "data": {
            "text/plain": [
              "<matplotlib.legend.Legend at 0x7f690699fd50>"
            ]
          },
          "metadata": {},
          "execution_count": 5
        },
        {
          "output_type": "display_data",
          "data": {
            "text/plain": [
              "<Figure size 720x720 with 1 Axes>"
            ],
            "image/png": "[encoded data removed]"
          },
          "metadata": {
            "needs_background": "light"
          }
        }
      ]
    },
    {
      "cell_type": "code",
      "execution_count": null,
      "metadata": {
        "id": "ntT8YP6K0j_B"
      },
      "outputs": [],
      "source": [
        "rnamap=pd.read_csv(\"NcbiMrnaEchinobaseGene_Spur.txt\", sep=\"\\t\", header=None, names=[\"t\",\"t2\",\"genepage\",\"LOC\"]) # downloaded from Echinobase FTP"
      ]
    },
    {
      "cell_type": "code",
      "source": [
        "def get_expression(df):\n",
        "  present=0\n",
        "  absent=0\n",
        "  # Get all transcript IDs for LOCs\n",
        "  rna=[]\n",
        "  for i in df[\"loc\"].unique():\n",
        "    temp=rnamap[rnamap[\"LOC\"]==i]\n",
        "    if len(temp) > 0:\n",
        "      present+=1\n",
        "      trs=temp.iloc[:,1].array\n",
        "      #print(trs)\n",
        "      mlist=[]\n",
        "      for t in trs:\n",
        "        if (t.split(\"_\")[0] == \"XM\") or (t.split(\"_\")[0] == \"NM\"):\n",
        "          mlist.append(t)\n",
        "      rna.append(mlist)\n",
        "    else:\n",
        "      absent+=1\n",
        "\n",
        "  # Select transcript with the most expression as representative for the gene\n",
        "  newdf=pd.DataFrame()\n",
        "  for r in rna:\n",
        "    #print(r)\n",
        "    if len(r) > 1:\n",
        "      max=0\n",
        "      maxid=0\n",
        "      for i in range(len(r)):\n",
        "        temp=exp[exp[\"ID\"]==r[i]]\n",
        "        if len(temp) > 0:\n",
        "          temp['sum'] = temp['0'] + temp['10'] + temp['18'] + temp['24'] + temp['30'] + temp['40'] + temp['48'] + temp['56'] + temp['64'] + temp['72']\n",
        "          #print(temp)\n",
        "          if temp.iloc[0,13] >= max: # keep transcript with the highest count, = for the case when first i in r not found in exp...\n",
        "            max=temp.iloc[0,13]\n",
        "            maxid=i\n",
        "        else:\n",
        "          print(\"check this out\")\n",
        "          print(r)\n",
        "      newdf=newdf.append(exp[exp[\"ID\"]==r[maxid]])\n",
        "    else:\n",
        "      #print(exp[exp[\"ID\"]==r[0]])\n",
        "      if len(r) > 0:\n",
        "        temp=exp[exp[\"ID\"]==r[0]]\n",
        "        newdf=newdf.append(temp)\n",
        "\n",
        "  newdf[\"sum\"]=newdf['0'] + newdf['10'] + newdf['18'] + newdf['24'] + newdf['30'] + newdf['40'] + newdf['48'] + newdf['56'] + newdf['64'] + newdf['72']\n",
        "  print(present)\n",
        "  print(absent)\n",
        "  return(newdf)"
      ],
      "metadata": {
        "id": "2Au03NKExQJ4"
      },
      "execution_count": null,
      "outputs": []
    },
    {
      "cell_type": "markdown",
      "source": [
        "# Analysis"
      ],
      "metadata": {
        "id": "y3ZWK59PwGyO"
      }
    },
    {
      "cell_type": "code",
      "source": [
        "thres=700"
      ],
      "metadata": {
        "id": "nrCKja4_Sw1q"
      },
      "execution_count": null,
      "outputs": []
    },
    {
      "cell_type": "code",
      "source": [
        "test_exp=get_expression(all_loc)"
      ],
      "metadata": {
        "id": "1yr1A2rEvNx8"
      },
      "execution_count": null,
      "outputs": []
    },
    {
      "cell_type": "code",
      "source": [
        "print('72 hours, found')\n",
        "print(len(test_exp[test_exp[\"sum\"]>thres])/len(test_exp)) #percent expressed within 72hpf\n",
        "print('72 hours, expected')\n",
        "print(len(texp[texp[\"sum\"]>thres])/len(texp)) #percent expressed within 72hpf\n",
        "print(\"more found than expected?\")\n",
        "print(stats.binom_test(len(test_exp[test_exp[\"sum\"]>thres]), n=len(test_exp), p=len(texp[texp[\"sum\"]>thres])/len(texp), alternative='greater'))\n",
        "print(\"less found than expected?\")\n",
        "print(stats.binom_test(len(test_exp[test_exp[\"sum\"]>thres]), n=len(test_exp), p=len(texp[texp[\"sum\"]>thres])/len(texp), alternative='less'))"
      ],
      "metadata": {
        "colab": {
          "base_uri": "https://localhost:8080/"
        },
        "id": "DFvP4oIoxwtO",
        "outputId": "e8823598-44a9-48ca-d5e6-a9cd103428d8"
      },
      "execution_count": null,
      "outputs": [
        {
          "output_type": "stream",
          "name": "stdout",
          "text": [
            "72 hours, found\n",
            "0.05166553365057784\n",
            "72 hours, expected\n",
            "0.04999241159508271\n",
            "more found than expected?\n",
            "0.35011917268042253\n",
            "less found than expected?\n",
            "0.6803601484699788\n"
          ]
        }
      ]
    },
    {
      "cell_type": "code",
      "source": [
        "test_exp[\"sum\"]=test_exp['0'] + test_exp['10'] + test_exp['18'] + test_exp['24'] + test_exp['30'] + test_exp['40'] + test_exp['48']\n",
        "texp[\"sum\"]=texp['0'] + texp['10'] + texp['18'] + texp['24'] + texp['30'] + texp['40'] + texp['48'] \n",
        "\n",
        "print('48 hours, found')\n",
        "print(len(test_exp[test_exp[\"sum\"]>thres])/len(test_exp)) #percent expressed within 72hpf\n",
        "print('48 hours, expected')\n",
        "print(len(texp[texp[\"sum\"]>thres])/len(texp)) #percent expressed within 72hpf\n",
        "print(\"more found than expected?\")\n",
        "print(stats.binom_test(len(test_exp[test_exp[\"sum\"]>thres]), n=len(test_exp), p=len(texp[texp[\"sum\"]>thres])/len(texp), alternative='greater'))\n",
        "print(\"less found than expected?\")\n",
        "print(stats.binom_test(len(test_exp[test_exp[\"sum\"]>thres]), n=len(test_exp), p=len(texp[texp[\"sum\"]>thres])/len(texp), alternative='less'))\n"
      ],
      "metadata": {
        "colab": {
          "base_uri": "https://localhost:8080/"
        },
        "id": "-ND07pjAu8qB",
        "outputId": "88cf22ae-8bdf-47c1-fc88-ccc7b3afa492"
      },
      "execution_count": null,
      "outputs": [
        {
          "output_type": "stream",
          "name": "stdout",
          "text": [
            "48 hours, found\n",
            "0.03602991162474507\n",
            "48 hours, expected\n",
            "0.03876157231749886\n",
            "more found than expected?\n",
            "0.7911811910727937\n",
            "less found than expected?\n",
            "0.2379896786014031\n"
          ]
        }
      ]
    },
    {
      "cell_type": "code",
      "source": [
        "test_exp[\"sum\"]=test_exp['0'] + test_exp['10'] + test_exp['18'] + test_exp['24'] \n",
        "texp[\"sum\"]=texp['0'] + texp['10'] + texp['18'] + texp['24']  \n",
        "\n",
        "print('24 hours, found')\n",
        "print(len(test_exp[test_exp[\"sum\"]>thres])/len(test_exp)) #percent expressed within 72hpf\n",
        "print('24 hours, expected')\n",
        "print(len(texp[texp[\"sum\"]>thres])/len(texp)) #percent expressed within 72hpf\n",
        "print(\"more found than expected?\")\n",
        "print(stats.binom_test(len(test_exp[test_exp[\"sum\"]>thres]), n=len(test_exp), p=len(texp[texp[\"sum\"]>thres])/len(texp), alternative='greater'))\n",
        "print(\"less found than expected?\")\n",
        "print(stats.binom_test(len(test_exp[test_exp[\"sum\"]>thres]), n=len(test_exp), p=len(texp[texp[\"sum\"]>thres])/len(texp), alternative='less'))\n"
      ],
      "metadata": {
        "colab": {
          "base_uri": "https://localhost:8080/"
        },
        "id": "1xQRa6DVu8tO",
        "outputId": "a74dfec0-8ae9-490e-d0b7-06d94d1689b4"
      },
      "execution_count": null,
      "outputs": [
        {
          "output_type": "stream",
          "name": "stdout",
          "text": [
            "24 hours, found\n",
            "0.01971447994561523\n",
            "24 hours, expected\n",
            "0.02513279708605251\n",
            "more found than expected?\n",
            "0.9769412610936353\n",
            "less found than expected?\n",
            "0.03095020852077597\n"
          ]
        }
      ]
    },
    {
      "cell_type": "code",
      "source": [
        "exp_list=test_exp[test_exp[\"sum\"]>700].gene_id.unique()\n",
        "#exp_list=[e.split(\"C\")[1] for e in exp_list]\n",
        "#exp_list"
      ],
      "metadata": {
        "id": "aeOHiWC9uaiQ"
      },
      "execution_count": null,
      "outputs": []
    },
    {
      "cell_type": "code",
      "source": [
        "# looking for exonic variants\n",
        "ens=pd.read_csv(\"ensembl_annotation_outliers_pairFST.txt\",sep=\"\\t\") #results based on Variant Effect Predictor available on EnsemblMetazoa\n",
        "ens"
      ],
      "metadata": {
        "colab": {
          "base_uri": "https://localhost:8080/",
          "height": 574
        },
        "id": "ENEKybgez63V",
        "outputId": "d567d91f-c179-458f-caab-589b33bfb4b4"
      },
      "execution_count": null,
      "outputs": [
        {
          "output_type": "execute_result",
          "data": {
            "text/plain": [
              "      #Uploaded_variation                          Location Allele  \\\n",
              "0                       .             NC_001453.1:3737-3737      G   \n",
              "1                       .             NC_001453.1:3737-3737      G   \n",
              "2                       .             NC_001453.1:3737-3737      G   \n",
              "3                       .             NC_001453.1:3737-3737      G   \n",
              "4                       .             NC_001453.1:3737-3737      G   \n",
              "...                   ...                               ...    ...   \n",
              "18262                   .  NW_022145615.1:35067778-35067778      T   \n",
              "18263                   .  NW_022145615.1:35067778-35067778      T   \n",
              "18264                   .  NW_022145615.1:35067778-35067778      T   \n",
              "18265                   .  NW_022145615.1:35067778-35067778      T   \n",
              "18266                   .  NW_022145615.1:35067778-35067778      T   \n",
              "\n",
              "                   Consequence    IMPACT SYMBOL            Gene Feature_type  \\\n",
              "0      downstream_gene_variant  MODIFIER    ND1  GeneID_2652716   Transcript   \n",
              "1           synonymous_variant       LOW    ND2  GeneID_2652717   Transcript   \n",
              "2        upstream_gene_variant  MODIFIER   COX1  GeneID_2652718   Transcript   \n",
              "3        upstream_gene_variant  MODIFIER   ND4L  GeneID_2652719   Transcript   \n",
              "4        upstream_gene_variant  MODIFIER   COX2  GeneID_2652720   Transcript   \n",
              "...                        ...       ...    ...             ...          ...   \n",
              "18262  downstream_gene_variant  MODIFIER      -       LOC578459   Transcript   \n",
              "18263           intron_variant  MODIFIER      -       LOC578527   Transcript   \n",
              "18264  downstream_gene_variant  MODIFIER      -       LOC578527   Transcript   \n",
              "18265  downstream_gene_variant  MODIFIER      -       LOC578527   Transcript   \n",
              "18266  downstream_gene_variant  MODIFIER      -       LOC578527   Transcript   \n",
              "\n",
              "                    Feature         BIOTYPE  ...   Codons Existing_variation  \\\n",
              "0      GeneID_2652716_df_mr  protein_coding  ...        -                  -   \n",
              "1      GeneID_2652717_df_mr  protein_coding  ...  ttA/ttG                  -   \n",
              "2      GeneID_2652718_df_mr  protein_coding  ...        -                  -   \n",
              "3      GeneID_2652719_df_mr  protein_coding  ...        -                  -   \n",
              "4      GeneID_2652720_df_mr  protein_coding  ...        -                  -   \n",
              "...                     ...             ...  ...      ...                ...   \n",
              "18262          XM_030976809  protein_coding  ...        -                  -   \n",
              "18263          XM_030976811  protein_coding  ...        -                  -   \n",
              "18264          XM_030976812  protein_coding  ...        -                  -   \n",
              "18265          XM_030976813  protein_coding  ...        -                  -   \n",
              "18266          XM_030976814  protein_coding  ...        -                  -   \n",
              "\n",
              "      DISTANCE STRAND FLAGS    SYMBOL_SOURCE HGNC_ID CLIN_SIG SOMATIC PHENO  \n",
              "0          607      1     -  Ensembl_Metazoa       -        -       -     -  \n",
              "1            -      1     -  Ensembl_Metazoa       -        -       -     -  \n",
              "2         2048      1     -  Ensembl_Metazoa       -        -       -     -  \n",
              "3         3681      1     -  Ensembl_Metazoa       -        -       -     -  \n",
              "4         3974      1     -  Ensembl_Metazoa       -        -       -     -  \n",
              "...        ...    ...   ...              ...     ...      ...     ...   ...  \n",
              "18262     4451      1     -                -       -        -       -     -  \n",
              "18263        -     -1     -                -       -        -       -     -  \n",
              "18264     3916     -1     -                -       -        -       -     -  \n",
              "18265     2879     -1     -                -       -        -       -     -  \n",
              "18266     3764     -1     -                -       -        -       -     -  \n",
              "\n",
              "[18267 rows x 28 columns]"
            ],
            "text/html": [
              "\n",
              "  <div id=\"df-c2dcb144-a3b5-4150-bda2-b8b6c65e71dc\">\n",
              "    <div class=\"colab-df-container\">\n",
              "      <div>\n",
              "<style scoped>\n",
              "    .dataframe tbody tr th:only-of-type {\n",
              "        vertical-align: middle;\n",
              "    }\n",
              "\n",
              "    .dataframe tbody tr th {\n",
              "        vertical-align: top;\n",
              "    }\n",
              "\n",
              "    .dataframe thead th {\n",
              "        text-align: right;\n",
              "    }\n",
              "</style>\n",
              "<table border=\"1\" class=\"dataframe\">\n",
              "  <thead>\n",
              "    <tr style=\"text-align: right;\">\n",
              "      <th></th>\n",
              "      <th>#Uploaded_variation</th>\n",
              "      <th>Location</th>\n",
              "      <th>Allele</th>\n",
              "      <th>Consequence</th>\n",
              "      <th>IMPACT</th>\n",
              "      <th>SYMBOL</th>\n",
              "      <th>Gene</th>\n",
              "      <th>Feature_type</th>\n",
              "      <th>Feature</th>\n",
              "      <th>BIOTYPE</th>\n",
              "      <th>...</th>\n",
              "      <th>Codons</th>\n",
              "      <th>Existing_variation</th>\n",
              "      <th>DISTANCE</th>\n",
              "      <th>STRAND</th>\n",
              "      <th>FLAGS</th>\n",
              "      <th>SYMBOL_SOURCE</th>\n",
              "      <th>HGNC_ID</th>\n",
              "      <th>CLIN_SIG</th>\n",
              "      <th>SOMATIC</th>\n",
              "      <th>PHENO</th>\n",
              "    </tr>\n",
              "  </thead>\n",
              "  <tbody>\n",
              "    <tr>\n",
              "      <th>0</th>\n",
              "      <td>.</td>\n",
              "      <td>NC_001453.1:3737-3737</td>\n",
              "      <td>G</td>\n",
              "      <td>downstream_gene_variant</td>\n",
              "      <td>MODIFIER</td>\n",
              "      <td>ND1</td>\n",
              "      <td>GeneID_2652716</td>\n",
              "      <td>Transcript</td>\n",
              "      <td>GeneID_2652716_df_mr</td>\n",
              "      <td>protein_coding</td>\n",
              "      <td>...</td>\n",
              "      <td>-</td>\n",
              "      <td>-</td>\n",
              "      <td>607</td>\n",
              "      <td>1</td>\n",
              "      <td>-</td>\n",
              "      <td>Ensembl_Metazoa</td>\n",
              "      <td>-</td>\n",
              "      <td>-</td>\n",
              "      <td>-</td>\n",
              "      <td>-</td>\n",
              "    </tr>\n",
              "    <tr>\n",
              "      <th>1</th>\n",
              "      <td>.</td>\n",
              "      <td>NC_001453.1:3737-3737</td>\n",
              "      <td>G</td>\n",
              "      <td>synonymous_variant</td>\n",
              "      <td>LOW</td>\n",
              "      <td>ND2</td>\n",
              "      <td>GeneID_2652717</td>\n",
              "      <td>Transcript</td>\n",
              "      <td>GeneID_2652717_df_mr</td>\n",
              "      <td>protein_coding</td>\n",
              "      <td>...</td>\n",
              "      <td>ttA/ttG</td>\n",
              "      <td>-</td>\n",
              "      <td>-</td>\n",
              "      <td>1</td>\n",
              "      <td>-</td>\n",
              "      <td>Ensembl_Metazoa</td>\n",
              "      <td>-</td>\n",
              "      <td>-</td>\n",
              "      <td>-</td>\n",
              "      <td>-</td>\n",
              "    </tr>\n",
              "    <tr>\n",
              "      <th>2</th>\n",
              "      <td>.</td>\n",
              "      <td>NC_001453.1:3737-3737</td>\n",
              "      <td>G</td>\n",
              "      <td>upstream_gene_variant</td>\n",
              "      <td>MODIFIER</td>\n",
              "      <td>COX1</td>\n",
              "      <td>GeneID_2652718</td>\n",
              "      <td>Transcript</td>\n",
              "      <td>GeneID_2652718_df_mr</td>\n",
              "      <td>protein_coding</td>\n",
              "      <td>...</td>\n",
              "      <td>-</td>\n",
              "      <td>-</td>\n",
              "      <td>2048</td>\n",
              "      <td>1</td>\n",
              "      <td>-</td>\n",
              "      <td>Ensembl_Metazoa</td>\n",
              "      <td>-</td>\n",
              "      <td>-</td>\n",
              "      <td>-</td>\n",
              "      <td>-</td>\n",
              "    </tr>\n",
              "    <tr>\n",
              "      <th>3</th>\n",
              "      <td>.</td>\n",
              "      <td>NC_001453.1:3737-3737</td>\n",
              "      <td>G</td>\n",
              "      <td>upstream_gene_variant</td>\n",
              "      <td>MODIFIER</td>\n",
              "      <td>ND4L</td>\n",
              "      <td>GeneID_2652719</td>\n",
              "      <td>Transcript</td>\n",
              "      <td>GeneID_2652719_df_mr</td>\n",
              "      <td>protein_coding</td>\n",
              "      <td>...</td>\n",
              "      <td>-</td>\n",
              "      <td>-</td>\n",
              "      <td>3681</td>\n",
              "      <td>1</td>\n",
              "      <td>-</td>\n",
              "      <td>Ensembl_Metazoa</td>\n",
              "      <td>-</td>\n",
              "      <td>-</td>\n",
              "      <td>-</td>\n",
              "      <td>-</td>\n",
              "    </tr>\n",
              "    <tr>\n",
              "      <th>4</th>\n",
              "      <td>.</td>\n",
              "      <td>NC_001453.1:3737-3737</td>\n",
              "      <td>G</td>\n",
              "      <td>upstream_gene_variant</td>\n",
              "      <td>MODIFIER</td>\n",
              "      <td>COX2</td>\n",
              "      <td>GeneID_2652720</td>\n",
              "      <td>Transcript</td>\n",
              "      <td>GeneID_2652720_df_mr</td>\n",
              "      <td>protein_coding</td>\n",
              "      <td>...</td>\n",
              "      <td>-</td>\n",
              "      <td>-</td>\n",
              "      <td>3974</td>\n",
              "      <td>1</td>\n",
              "      <td>-</td>\n",
              "      <td>Ensembl_Metazoa</td>\n",
              "      <td>-</td>\n",
              "      <td>-</td>\n",
              "      <td>-</td>\n",
              "      <td>-</td>\n",
              "    </tr>\n",
              "    <tr>\n",
              "      <th>...</th>\n",
              "      <td>...</td>\n",
              "      <td>...</td>\n",
              "      <td>...</td>\n",
              "      <td>...</td>\n",
              "      <td>...</td>\n",
              "      <td>...</td>\n",
              "      <td>...</td>\n",
              "      <td>...</td>\n",
              "      <td>...</td>\n",
              "      <td>...</td>\n",
              "      <td>...</td>\n",
              "      <td>...</td>\n",
              "      <td>...</td>\n",
              "      <td>...</td>\n",
              "      <td>...</td>\n",
              "      <td>...</td>\n",
              "      <td>...</td>\n",
              "      <td>...</td>\n",
              "      <td>...</td>\n",
              "      <td>...</td>\n",
              "      <td>...</td>\n",
              "    </tr>\n",
              "    <tr>\n",
              "      <th>18262</th>\n",
              "      <td>.</td>\n",
              "      <td>NW_022145615.1:35067778-35067778</td>\n",
              "      <td>T</td>\n",
              "      <td>downstream_gene_variant</td>\n",
              "      <td>MODIFIER</td>\n",
              "      <td>-</td>\n",
              "      <td>LOC578459</td>\n",
              "      <td>Transcript</td>\n",
              "      <td>XM_030976809</td>\n",
              "      <td>protein_coding</td>\n",
              "      <td>...</td>\n",
              "      <td>-</td>\n",
              "      <td>-</td>\n",
              "      <td>4451</td>\n",
              "      <td>1</td>\n",
              "      <td>-</td>\n",
              "      <td>-</td>\n",
              "      <td>-</td>\n",
              "      <td>-</td>\n",
              "      <td>-</td>\n",
              "      <td>-</td>\n",
              "    </tr>\n",
              "    <tr>\n",
              "      <th>18263</th>\n",
              "      <td>.</td>\n",
              "      <td>NW_022145615.1:35067778-35067778</td>\n",
              "      <td>T</td>\n",
              "      <td>intron_variant</td>\n",
              "      <td>MODIFIER</td>\n",
              "      <td>-</td>\n",
              "      <td>LOC578527</td>\n",
              "      <td>Transcript</td>\n",
              "      <td>XM_030976811</td>\n",
              "      <td>protein_coding</td>\n",
              "      <td>...</td>\n",
              "      <td>-</td>\n",
              "      <td>-</td>\n",
              "      <td>-</td>\n",
              "      <td>-1</td>\n",
              "      <td>-</td>\n",
              "      <td>-</td>\n",
              "      <td>-</td>\n",
              "      <td>-</td>\n",
              "      <td>-</td>\n",
              "      <td>-</td>\n",
              "    </tr>\n",
              "    <tr>\n",
              "      <th>18264</th>\n",
              "      <td>.</td>\n",
              "      <td>NW_022145615.1:35067778-35067778</td>\n",
              "      <td>T</td>\n",
              "      <td>downstream_gene_variant</td>\n",
              "      <td>MODIFIER</td>\n",
              "      <td>-</td>\n",
              "      <td>LOC578527</td>\n",
              "      <td>Transcript</td>\n",
              "      <td>XM_030976812</td>\n",
              "      <td>protein_coding</td>\n",
              "      <td>...</td>\n",
              "      <td>-</td>\n",
              "      <td>-</td>\n",
              "      <td>3916</td>\n",
              "      <td>-1</td>\n",
              "      <td>-</td>\n",
              "      <td>-</td>\n",
              "      <td>-</td>\n",
              "      <td>-</td>\n",
              "      <td>-</td>\n",
              "      <td>-</td>\n",
              "    </tr>\n",
              "    <tr>\n",
              "      <th>18265</th>\n",
              "      <td>.</td>\n",
              "      <td>NW_022145615.1:35067778-35067778</td>\n",
              "      <td>T</td>\n",
              "      <td>downstream_gene_variant</td>\n",
              "      <td>MODIFIER</td>\n",
              "      <td>-</td>\n",
              "      <td>LOC578527</td>\n",
              "      <td>Transcript</td>\n",
              "      <td>XM_030976813</td>\n",
              "      <td>protein_coding</td>\n",
              "      <td>...</td>\n",
              "      <td>-</td>\n",
              "      <td>-</td>\n",
              "      <td>2879</td>\n",
              "      <td>-1</td>\n",
              "      <td>-</td>\n",
              "      <td>-</td>\n",
              "      <td>-</td>\n",
              "      <td>-</td>\n",
              "      <td>-</td>\n",
              "      <td>-</td>\n",
              "    </tr>\n",
              "    <tr>\n",
              "      <th>18266</th>\n",
              "      <td>.</td>\n",
              "      <td>NW_022145615.1:35067778-35067778</td>\n",
              "      <td>T</td>\n",
              "      <td>downstream_gene_variant</td>\n",
              "      <td>MODIFIER</td>\n",
              "      <td>-</td>\n",
              "      <td>LOC578527</td>\n",
              "      <td>Transcript</td>\n",
              "      <td>XM_030976814</td>\n",
              "      <td>protein_coding</td>\n",
              "      <td>...</td>\n",
              "      <td>-</td>\n",
              "      <td>-</td>\n",
              "      <td>3764</td>\n",
              "      <td>-1</td>\n",
              "      <td>-</td>\n",
              "      <td>-</td>\n",
              "      <td>-</td>\n",
              "      <td>-</td>\n",
              "      <td>-</td>\n",
              "      <td>-</td>\n",
              "    </tr>\n",
              "  </tbody>\n",
              "</table>\n",
              "<p>18267 rows × 28 columns</p>\n",
              "</div>\n",
              "      <button class=\"colab-df-convert\" onclick=\"convertToInteractive('df-c2dcb144-a3b5-4150-bda2-b8b6c65e71dc')\"\n",
              "              title=\"Convert this dataframe to an interactive table.\"\n",
              "              style=\"display:none;\">\n",
              "        \n",
              "  <svg xmlns=\"http://www.w3.org/2000/svg\" height=\"24px\"viewBox=\"0 0 24 24\"\n",
              "       width=\"24px\">\n",
              "    <path d=\"M0 0h24v24H0V0z\" fill=\"none\"/>\n",
              "    <path d=\"M18.56 5.44l.94 2.06.94-2.06 2.06-.94-2.06-.94-.94-2.06-.94 2.06-2.06.94zm-11 1L8.5 8.5l.94-2.06 2.06-.94-2.06-.94L8.5 2.5l-.94 2.06-2.06.94zm10 10l.94 2.06.94-2.06 2.06-.94-2.06-.94-.94-2.06-.94 2.06-2.06.94z\"/><path d=\"M17.41 7.96l-1.37-1.37c-.4-.4-.92-.59-1.43-.59-.52 0-1.04.2-1.43.59L10.3 9.45l-7.72 7.72c-.78.78-.78 2.05 0 2.83L4 21.41c.39.39.9.59 1.41.59.51 0 1.02-.2 1.41-.59l7.78-7.78 2.81-2.81c.8-.78.8-2.07 0-2.86zM5.41 20L4 18.59l7.72-7.72 1.47 1.35L5.41 20z\"/>\n",
              "  </svg>\n",
              "      </button>\n",
              "      \n",
              "  <style>\n",
              "    .colab-df-container {\n",
              "      display:flex;\n",
              "      flex-wrap:wrap;\n",
              "      gap: 12px;\n",
              "    }\n",
              "\n",
              "    .colab-df-convert {\n",
              "      background-color: #E8F0FE;\n",
              "      border: none;\n",
              "      border-radius: 50%;\n",
              "      cursor: pointer;\n",
              "      display: none;\n",
              "      fill: #1967D2;\n",
              "      height: 32px;\n",
              "      padding: 0 0 0 0;\n",
              "      width: 32px;\n",
              "    }\n",
              "\n",
              "    .colab-df-convert:hover {\n",
              "      background-color: #E2EBFA;\n",
              "      box-shadow: 0px 1px 2px rgba(60, 64, 67, 0.3), 0px 1px 3px 1px rgba(60, 64, 67, 0.15);\n",
              "      fill: #174EA6;\n",
              "    }\n",
              "\n",
              "    [theme=dark] .colab-df-convert {\n",
              "      background-color: #3B4455;\n",
              "      fill: #D2E3FC;\n",
              "    }\n",
              "\n",
              "    [theme=dark] .colab-df-convert:hover {\n",
              "      background-color: #434B5C;\n",
              "      box-shadow: 0px 1px 3px 1px rgba(0, 0, 0, 0.15);\n",
              "      filter: drop-shadow(0px 1px 2px rgba(0, 0, 0, 0.3));\n",
              "      fill: #FFFFFF;\n",
              "    }\n",
              "  </style>\n",
              "\n",
              "      <script>\n",
              "        const buttonEl =\n",
              "          document.querySelector('#df-c2dcb144-a3b5-4150-bda2-b8b6c65e71dc button.colab-df-convert');\n",
              "        buttonEl.style.display =\n",
              "          google.colab.kernel.accessAllowed ? 'block' : 'none';\n",
              "\n",
              "        async function convertToInteractive(key) {\n",
              "          const element = document.querySelector('#df-c2dcb144-a3b5-4150-bda2-b8b6c65e71dc');\n",
              "          const dataTable =\n",
              "            await google.colab.kernel.invokeFunction('convertToInteractive',\n",
              "                                                     [key], {});\n",
              "          if (!dataTable) return;\n",
              "\n",
              "          const docLinkHtml = 'Like what you see? Visit the ' +\n",
              "            '<a target=\"_blank\" href=https://colab.research.google.com/notebooks/data_table.ipynb>data table notebook</a>'\n",
              "            + ' to learn more about interactive tables.';\n",
              "          element.innerHTML = '';\n",
              "          dataTable['output_type'] = 'display_data';\n",
              "          await google.colab.output.renderOutput(dataTable, element);\n",
              "          const docLink = document.createElement('div');\n",
              "          docLink.innerHTML = docLinkHtml;\n",
              "          element.appendChild(docLink);\n",
              "        }\n",
              "      </script>\n",
              "    </div>\n",
              "  </div>\n",
              "  "
            ]
          },
          "metadata": {},
          "execution_count": 33
        }
      ]
    },
    {
      "cell_type": "code",
      "source": [
        "effects=[]\n",
        "for e in exp_list:\n",
        "  #gene=\"GeneID_\" + str(e)\n",
        "  #print(gene)\n",
        "  tmp=ens[ens[\"Gene\"]==e]\n",
        "  if len(tmp) > 0:\n",
        "    #print(tmp.Consequence.values)\n",
        "    effects.append(tmp.Consequence.values)\n",
        "    #break"
      ],
      "metadata": {
        "id": "JbnmI2yzzfeB"
      },
      "execution_count": null,
      "outputs": []
    },
    {
      "cell_type": "code",
      "source": [
        "effects=[l.tolist() for l in effects]"
      ],
      "metadata": {
        "id": "XAU9WYCDWaH1"
      },
      "execution_count": null,
      "outputs": []
    },
    {
      "cell_type": "code",
      "source": [
        "effects=[x for xs in effects for x in xs]"
      ],
      "metadata": {
        "id": "4RwoBq3zWw4u"
      },
      "execution_count": null,
      "outputs": []
    },
    {
      "cell_type": "code",
      "source": [
        "from collections import Counter\n",
        "counts = Counter(effects)\n",
        "counts"
      ],
      "metadata": {
        "colab": {
          "base_uri": "https://localhost:8080/"
        },
        "id": "T5obKU4EWxAh",
        "outputId": "3ec6b428-2539-4d46-d039-25bd2d9ebbb4"
      },
      "execution_count": null,
      "outputs": [
        {
          "output_type": "execute_result",
          "data": {
            "text/plain": [
              "Counter({'3_prime_UTR_variant': 66,\n",
              "         '5_prime_UTR_variant': 36,\n",
              "         'downstream_gene_variant': 41,\n",
              "         'intron_variant': 524,\n",
              "         'intron_variant,non_coding_transcript_variant': 3,\n",
              "         'missense_variant': 11,\n",
              "         'non_coding_transcript_exon_variant': 2,\n",
              "         'splice_polypyrimidine_tract_variant,intron_variant': 1,\n",
              "         'splice_polypyrimidine_tract_variant,splice_region_variant,intron_variant': 2,\n",
              "         'synonymous_variant': 102,\n",
              "         'upstream_gene_variant': 28})"
            ]
          },
          "metadata": {},
          "execution_count": 37
        }
      ]
    }
  ],
  "metadata": {
    "colab": {
      "collapsed_sections": [],
      "provenance": []
    },
    "kernelspec": {
      "display_name": "Python 3",
      "name": "python3"
    },
    "language_info": {
      "name": "python"
    }
  },
  "nbformat": 4,
  "nbformat_minor": 0
}